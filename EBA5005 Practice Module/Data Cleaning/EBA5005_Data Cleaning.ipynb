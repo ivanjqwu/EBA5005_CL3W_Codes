{
 "cells": [
  {
   "cell_type": "markdown",
   "metadata": {},
   "source": [
    "# 读取数据"
   ]
  },
  {
   "cell_type": "code",
   "execution_count": 1,
   "metadata": {},
   "outputs": [],
   "source": [
    "import pandas as pd\n",
    "import numpy as np"
   ]
  },
  {
   "cell_type": "code",
   "execution_count": 2,
   "metadata": {},
   "outputs": [
    {
     "data": {
      "text/html": [
       "<div>\n",
       "<style scoped>\n",
       "    .dataframe tbody tr th:only-of-type {\n",
       "        vertical-align: middle;\n",
       "    }\n",
       "\n",
       "    .dataframe tbody tr th {\n",
       "        vertical-align: top;\n",
       "    }\n",
       "\n",
       "    .dataframe thead th {\n",
       "        text-align: right;\n",
       "    }\n",
       "</style>\n",
       "<table border=\"1\" class=\"dataframe\">\n",
       "  <thead>\n",
       "    <tr style=\"text-align: right;\">\n",
       "      <th></th>\n",
       "      <th>ID</th>\n",
       "      <th>Longitude</th>\n",
       "      <th>Latitude</th>\n",
       "      <th>Transaction_Time）</th>\n",
       "      <th>Transaction_Cycle(day)</th>\n",
       "      <th>Followers</th>\n",
       "      <th>Total_Price</th>\n",
       "      <th>Price_PerSquare</th>\n",
       "      <th>Area</th>\n",
       "      <th>BedRoom</th>\n",
       "      <th>...</th>\n",
       "      <th>Building_Type</th>\n",
       "      <th>Building_Year</th>\n",
       "      <th>Renovation</th>\n",
       "      <th>Building_structure</th>\n",
       "      <th>Elevator_Ratio</th>\n",
       "      <th>Elevator</th>\n",
       "      <th>Duty_Free</th>\n",
       "      <th>Subway_or_not</th>\n",
       "      <th>District</th>\n",
       "      <th>Average_Price</th>\n",
       "    </tr>\n",
       "  </thead>\n",
       "  <tbody>\n",
       "    <tr>\n",
       "      <th>0</th>\n",
       "      <td>1</td>\n",
       "      <td>116.421057</td>\n",
       "      <td>39.878774</td>\n",
       "      <td>2017/9/13</td>\n",
       "      <td>25.0</td>\n",
       "      <td>57</td>\n",
       "      <td>577.0</td>\n",
       "      <td>85761</td>\n",
       "      <td>67.28</td>\n",
       "      <td>3</td>\n",
       "      <td>...</td>\n",
       "      <td>板楼</td>\n",
       "      <td>1980.0</td>\n",
       "      <td>精装</td>\n",
       "      <td>混合结构</td>\n",
       "      <td>0.200</td>\n",
       "      <td>无</td>\n",
       "      <td>满五年</td>\n",
       "      <td>是</td>\n",
       "      <td>东城</td>\n",
       "      <td>73675.0</td>\n",
       "    </tr>\n",
       "    <tr>\n",
       "      <th>1</th>\n",
       "      <td>2</td>\n",
       "      <td>116.334493</td>\n",
       "      <td>39.879592</td>\n",
       "      <td>2017/3/10</td>\n",
       "      <td>5.0</td>\n",
       "      <td>14</td>\n",
       "      <td>913.0</td>\n",
       "      <td>97658</td>\n",
       "      <td>93.49</td>\n",
       "      <td>3</td>\n",
       "      <td>...</td>\n",
       "      <td>板楼</td>\n",
       "      <td>NaN</td>\n",
       "      <td>简装</td>\n",
       "      <td>混合结构</td>\n",
       "      <td>0.500</td>\n",
       "      <td>无</td>\n",
       "      <td>NaN</td>\n",
       "      <td>否</td>\n",
       "      <td>西城</td>\n",
       "      <td>78990.0</td>\n",
       "    </tr>\n",
       "    <tr>\n",
       "      <th>2</th>\n",
       "      <td>3</td>\n",
       "      <td>116.343146</td>\n",
       "      <td>39.937243</td>\n",
       "      <td>2017/2/15</td>\n",
       "      <td>3.0</td>\n",
       "      <td>0</td>\n",
       "      <td>279.0</td>\n",
       "      <td>42012</td>\n",
       "      <td>66.41</td>\n",
       "      <td>1</td>\n",
       "      <td>...</td>\n",
       "      <td>塔楼</td>\n",
       "      <td>NaN</td>\n",
       "      <td>其他</td>\n",
       "      <td>钢混结构</td>\n",
       "      <td>0.154</td>\n",
       "      <td>有</td>\n",
       "      <td>NaN</td>\n",
       "      <td>是</td>\n",
       "      <td>西城</td>\n",
       "      <td>45254.0</td>\n",
       "    </tr>\n",
       "    <tr>\n",
       "      <th>3</th>\n",
       "      <td>4</td>\n",
       "      <td>116.351906</td>\n",
       "      <td>39.876166</td>\n",
       "      <td>2017/2/12</td>\n",
       "      <td>26.0</td>\n",
       "      <td>13</td>\n",
       "      <td>810.0</td>\n",
       "      <td>93211</td>\n",
       "      <td>86.90</td>\n",
       "      <td>2</td>\n",
       "      <td>...</td>\n",
       "      <td>板塔结合</td>\n",
       "      <td>NaN</td>\n",
       "      <td>精装</td>\n",
       "      <td>钢混结构</td>\n",
       "      <td>0.333</td>\n",
       "      <td>有</td>\n",
       "      <td>NaN</td>\n",
       "      <td>是</td>\n",
       "      <td>西城</td>\n",
       "      <td>85930.0</td>\n",
       "    </tr>\n",
       "    <tr>\n",
       "      <th>4</th>\n",
       "      <td>5</td>\n",
       "      <td>116.334493</td>\n",
       "      <td>39.879592</td>\n",
       "      <td>2016/11/3</td>\n",
       "      <td>21.0</td>\n",
       "      <td>38</td>\n",
       "      <td>680.0</td>\n",
       "      <td>86438</td>\n",
       "      <td>78.67</td>\n",
       "      <td>2</td>\n",
       "      <td>...</td>\n",
       "      <td>板楼</td>\n",
       "      <td>NaN</td>\n",
       "      <td>精装</td>\n",
       "      <td>混合结构</td>\n",
       "      <td>0.500</td>\n",
       "      <td>无</td>\n",
       "      <td>满五年</td>\n",
       "      <td>否</td>\n",
       "      <td>西城</td>\n",
       "      <td>78990.0</td>\n",
       "    </tr>\n",
       "    <tr>\n",
       "      <th>...</th>\n",
       "      <td>...</td>\n",
       "      <td>...</td>\n",
       "      <td>...</td>\n",
       "      <td>...</td>\n",
       "      <td>...</td>\n",
       "      <td>...</td>\n",
       "      <td>...</td>\n",
       "      <td>...</td>\n",
       "      <td>...</td>\n",
       "      <td>...</td>\n",
       "      <td>...</td>\n",
       "      <td>...</td>\n",
       "      <td>...</td>\n",
       "      <td>...</td>\n",
       "      <td>...</td>\n",
       "      <td>...</td>\n",
       "      <td>...</td>\n",
       "      <td>...</td>\n",
       "      <td>...</td>\n",
       "      <td>...</td>\n",
       "      <td>...</td>\n",
       "    </tr>\n",
       "    <tr>\n",
       "      <th>95</th>\n",
       "      <td>96</td>\n",
       "      <td>116.342122</td>\n",
       "      <td>40.033637</td>\n",
       "      <td>2016/3/29</td>\n",
       "      <td>1.0</td>\n",
       "      <td>21</td>\n",
       "      <td>460.8</td>\n",
       "      <td>40203</td>\n",
       "      <td>114.62</td>\n",
       "      <td>2</td>\n",
       "      <td>...</td>\n",
       "      <td>塔楼</td>\n",
       "      <td>2002.0</td>\n",
       "      <td>精装</td>\n",
       "      <td>钢混结构</td>\n",
       "      <td>0.300</td>\n",
       "      <td>有</td>\n",
       "      <td>满五年</td>\n",
       "      <td>是</td>\n",
       "      <td>海淀</td>\n",
       "      <td>60688.0</td>\n",
       "    </tr>\n",
       "    <tr>\n",
       "      <th>96</th>\n",
       "      <td>97</td>\n",
       "      <td>116.427716</td>\n",
       "      <td>39.912449</td>\n",
       "      <td>2016/3/29</td>\n",
       "      <td>1.0</td>\n",
       "      <td>148</td>\n",
       "      <td>288.0</td>\n",
       "      <td>43571</td>\n",
       "      <td>66.10</td>\n",
       "      <td>1</td>\n",
       "      <td>...</td>\n",
       "      <td>塔楼</td>\n",
       "      <td>NaN</td>\n",
       "      <td>简装</td>\n",
       "      <td>钢混结构</td>\n",
       "      <td>0.346</td>\n",
       "      <td>有</td>\n",
       "      <td>满五年</td>\n",
       "      <td>是</td>\n",
       "      <td>东城</td>\n",
       "      <td>49770.0</td>\n",
       "    </tr>\n",
       "    <tr>\n",
       "      <th>97</th>\n",
       "      <td>98</td>\n",
       "      <td>116.433013</td>\n",
       "      <td>40.070510</td>\n",
       "      <td>2016/3/29</td>\n",
       "      <td>1.0</td>\n",
       "      <td>8</td>\n",
       "      <td>345.0</td>\n",
       "      <td>18444</td>\n",
       "      <td>187.06</td>\n",
       "      <td>3</td>\n",
       "      <td>...</td>\n",
       "      <td>板楼</td>\n",
       "      <td>2002.0</td>\n",
       "      <td>精装</td>\n",
       "      <td>混合结构</td>\n",
       "      <td>0.500</td>\n",
       "      <td>无</td>\n",
       "      <td>满五年</td>\n",
       "      <td>否</td>\n",
       "      <td>昌平</td>\n",
       "      <td>36411.0</td>\n",
       "    </tr>\n",
       "    <tr>\n",
       "      <th>98</th>\n",
       "      <td>99</td>\n",
       "      <td>116.600452</td>\n",
       "      <td>39.898034</td>\n",
       "      <td>2016/3/28</td>\n",
       "      <td>NaN</td>\n",
       "      <td>2</td>\n",
       "      <td>200.0</td>\n",
       "      <td>32415</td>\n",
       "      <td>61.70</td>\n",
       "      <td>1</td>\n",
       "      <td>...</td>\n",
       "      <td>板楼</td>\n",
       "      <td>2005.0</td>\n",
       "      <td>精装</td>\n",
       "      <td>钢混结构</td>\n",
       "      <td>0.500</td>\n",
       "      <td>无</td>\n",
       "      <td>NaN</td>\n",
       "      <td>否</td>\n",
       "      <td>朝阳</td>\n",
       "      <td>45447.0</td>\n",
       "    </tr>\n",
       "    <tr>\n",
       "      <th>99</th>\n",
       "      <td>100</td>\n",
       "      <td>116.419440</td>\n",
       "      <td>39.894882</td>\n",
       "      <td>2016/3/27</td>\n",
       "      <td>NaN</td>\n",
       "      <td>33</td>\n",
       "      <td>420.0</td>\n",
       "      <td>72227</td>\n",
       "      <td>58.15</td>\n",
       "      <td>2</td>\n",
       "      <td>...</td>\n",
       "      <td>板楼</td>\n",
       "      <td>2004.0</td>\n",
       "      <td>简装</td>\n",
       "      <td>钢混结构</td>\n",
       "      <td>0.333</td>\n",
       "      <td>有</td>\n",
       "      <td>满五年</td>\n",
       "      <td>是</td>\n",
       "      <td>东城</td>\n",
       "      <td>95392.0</td>\n",
       "    </tr>\n",
       "  </tbody>\n",
       "</table>\n",
       "<p>100 rows × 25 columns</p>\n",
       "</div>"
      ],
      "text/plain": [
       "     ID   Longitude   Latitude Transaction_Time）  Transaction_Cycle(day)  \\\n",
       "0     1  116.421057  39.878774         2017/9/13                    25.0   \n",
       "1     2  116.334493  39.879592         2017/3/10                     5.0   \n",
       "2     3  116.343146  39.937243         2017/2/15                     3.0   \n",
       "3     4  116.351906  39.876166         2017/2/12                    26.0   \n",
       "4     5  116.334493  39.879592         2016/11/3                    21.0   \n",
       "..  ...         ...        ...               ...                     ...   \n",
       "95   96  116.342122  40.033637         2016/3/29                     1.0   \n",
       "96   97  116.427716  39.912449         2016/3/29                     1.0   \n",
       "97   98  116.433013  40.070510         2016/3/29                     1.0   \n",
       "98   99  116.600452  39.898034         2016/3/28                     NaN   \n",
       "99  100  116.419440  39.894882         2016/3/27                     NaN   \n",
       "\n",
       "    Followers  Total_Price  Price_PerSquare    Area  BedRoom  ...  \\\n",
       "0          57        577.0            85761   67.28        3  ...   \n",
       "1          14        913.0            97658   93.49        3  ...   \n",
       "2           0        279.0            42012   66.41        1  ...   \n",
       "3          13        810.0            93211   86.90        2  ...   \n",
       "4          38        680.0            86438   78.67        2  ...   \n",
       "..        ...          ...              ...     ...      ...  ...   \n",
       "95         21        460.8            40203  114.62        2  ...   \n",
       "96        148        288.0            43571   66.10        1  ...   \n",
       "97          8        345.0            18444  187.06        3  ...   \n",
       "98          2        200.0            32415   61.70        1  ...   \n",
       "99         33        420.0            72227   58.15        2  ...   \n",
       "\n",
       "    Building_Type  Building_Year  Renovation Building_structure  \\\n",
       "0              板楼         1980.0          精装               混合结构   \n",
       "1              板楼            NaN          简装               混合结构   \n",
       "2              塔楼            NaN          其他               钢混结构   \n",
       "3            板塔结合            NaN          精装               钢混结构   \n",
       "4              板楼            NaN          精装               混合结构   \n",
       "..            ...            ...         ...                ...   \n",
       "95             塔楼         2002.0          精装               钢混结构   \n",
       "96             塔楼            NaN          简装               钢混结构   \n",
       "97             板楼         2002.0          精装               混合结构   \n",
       "98             板楼         2005.0          精装               钢混结构   \n",
       "99             板楼         2004.0          简装               钢混结构   \n",
       "\n",
       "    Elevator_Ratio Elevator  Duty_Free Subway_or_not District  Average_Price  \n",
       "0            0.200        无        满五年             是       东城        73675.0  \n",
       "1            0.500        无        NaN             否       西城        78990.0  \n",
       "2            0.154        有        NaN             是       西城        45254.0  \n",
       "3            0.333        有        NaN             是       西城        85930.0  \n",
       "4            0.500        无        满五年             否       西城        78990.0  \n",
       "..             ...      ...        ...           ...      ...            ...  \n",
       "95           0.300        有        满五年             是       海淀        60688.0  \n",
       "96           0.346        有        满五年             是       东城        49770.0  \n",
       "97           0.500        无        满五年             否       昌平        36411.0  \n",
       "98           0.500        无        NaN             否       朝阳        45447.0  \n",
       "99           0.333        有        满五年             是       东城        95392.0  \n",
       "\n",
       "[100 rows x 25 columns]"
      ]
     },
     "execution_count": 2,
     "metadata": {},
     "output_type": "execute_result"
    }
   ],
   "source": [
    "df = pd.read_csv('房产_链家二手房_北京_2014-2021.csv')\n",
    "df.head(100)"
   ]
  },
  {
   "cell_type": "code",
   "execution_count": 3,
   "metadata": {},
   "outputs": [
    {
     "data": {
      "text/plain": [
       "(318818, 25)"
      ]
     },
     "execution_count": 3,
     "metadata": {},
     "output_type": "execute_result"
    }
   ],
   "source": [
    "df.shape"
   ]
  },
  {
   "cell_type": "code",
   "execution_count": 4,
   "metadata": {},
   "outputs": [
    {
     "name": "stdout",
     "output_type": "stream",
     "text": [
      "<class 'pandas.core.frame.DataFrame'>\n",
      "RangeIndex: 318818 entries, 0 to 318817\n",
      "Data columns (total 25 columns):\n",
      " #   Column                  Non-Null Count   Dtype  \n",
      "---  ------                  --------------   -----  \n",
      " 0   ID                      318818 non-null  int64  \n",
      " 1   Longitude               318818 non-null  float64\n",
      " 2   Latitude                318818 non-null  float64\n",
      " 3   Transaction_Time）       318818 non-null  object \n",
      " 4   Transaction_Cycle(day)  160849 non-null  float64\n",
      " 5   Followers               318818 non-null  int64  \n",
      " 6   Total_Price             318818 non-null  float64\n",
      " 7   Price_PerSquare         318818 non-null  int64  \n",
      " 8   Area                    318818 non-null  float64\n",
      " 9   BedRoom                 318818 non-null  int64  \n",
      " 10  SittingRoom             318818 non-null  int64  \n",
      " 11  Kitchen                 318818 non-null  int64  \n",
      " 12  Bathroom                318818 non-null  int64  \n",
      " 13  Floor                   317547 non-null  object \n",
      " 14  Building_Height         318818 non-null  int64  \n",
      " 15  Building_Type           316797 non-null  object \n",
      " 16  Building_Year           299536 non-null  float64\n",
      " 17  Renovation              318818 non-null  object \n",
      " 18  Building_structure      318626 non-null  object \n",
      " 19  Elevator_Ratio          318818 non-null  float64\n",
      " 20  Elevator                318818 non-null  object \n",
      " 21  Duty_Free               205829 non-null  object \n",
      " 22  Subway_or_not           318818 non-null  object \n",
      " 23  District                318818 non-null  object \n",
      " 24  Average_Price           318355 non-null  float64\n",
      "dtypes: float64(8), int64(8), object(9)\n",
      "memory usage: 60.8+ MB\n"
     ]
    }
   ],
   "source": [
    "df.info()"
   ]
  },
  {
   "cell_type": "code",
   "execution_count": 5,
   "metadata": {},
   "outputs": [],
   "source": [
    "df = df = df.rename(columns={'Transaction_Time）':'Transaction_Time'})"
   ]
  },
  {
   "cell_type": "code",
   "execution_count": 6,
   "metadata": {},
   "outputs": [
    {
     "data": {
      "text/plain": [
       "Index(['ID', 'Longitude', 'Latitude', 'Transaction_Time',\n",
       "       'Transaction_Cycle(day)', 'Followers', 'Total_Price', 'Price_PerSquare',\n",
       "       'Area', 'BedRoom', 'SittingRoom', 'Kitchen', 'Bathroom', 'Floor',\n",
       "       'Building_Height', 'Building_Type', 'Building_Year', 'Renovation',\n",
       "       'Building_structure', 'Elevator_Ratio', 'Elevator', 'Duty_Free',\n",
       "       'Subway_or_not', 'District', 'Average_Price'],\n",
       "      dtype='object')"
      ]
     },
     "execution_count": 6,
     "metadata": {},
     "output_type": "execute_result"
    }
   ],
   "source": [
    "df.columns"
   ]
  },
  {
   "cell_type": "markdown",
   "metadata": {},
   "source": [
    "# Explore data"
   ]
  },
  {
   "cell_type": "code",
   "execution_count": 7,
   "metadata": {},
   "outputs": [
    {
     "data": {
      "text/plain": [
       "ID                             0\n",
       "Longitude                      0\n",
       "Latitude                       0\n",
       "Transaction_Time               0\n",
       "Transaction_Cycle(day)    157969\n",
       "Followers                      0\n",
       "Total_Price                    0\n",
       "Price_PerSquare                0\n",
       "Area                           0\n",
       "BedRoom                        0\n",
       "SittingRoom                    0\n",
       "Kitchen                        0\n",
       "Bathroom                       0\n",
       "Floor                       1271\n",
       "Building_Height                0\n",
       "Building_Type               2021\n",
       "Building_Year              19282\n",
       "Renovation                     0\n",
       "Building_structure           192\n",
       "Elevator_Ratio                 0\n",
       "Elevator                       0\n",
       "Duty_Free                 112989\n",
       "Subway_or_not                  0\n",
       "District                       0\n",
       "Average_Price                463\n",
       "dtype: int64"
      ]
     },
     "execution_count": 7,
     "metadata": {},
     "output_type": "execute_result"
    }
   ],
   "source": [
    "# check null value\n",
    "df.isnull().sum()"
   ]
  },
  {
   "cell_type": "code",
   "execution_count": 8,
   "metadata": {},
   "outputs": [],
   "source": [
    "#filling missing values with mean\n",
    "df['Transaction_Cycle(day)'] = df['Transaction_Cycle(day)'].fillna(df['Transaction_Cycle(day)'].mean())\n",
    "df['Average_Price'] = df['Average_Price'].fillna(df['Average_Price'].mean())\n",
    "df['Building_Year'] = df['Building_Year'].fillna(df['Building_Year'].mean())"
   ]
  },
  {
   "cell_type": "code",
   "execution_count": 9,
   "metadata": {},
   "outputs": [],
   "source": [
    "#transform data\n",
    "df['Building_Year'] = df['Building_Year'].astype(np.int64)\n",
    "df['Transaction_Cycle(day)'] = df['Transaction_Cycle(day)'].astype(np.int64)\n",
    "df['Average_Price'] = df['Average_Price'].astype(np.int64)\n",
    "df['Transaction_Time'] = pd.to_datetime(df['Transaction_Time'])"
   ]
  },
  {
   "cell_type": "code",
   "execution_count": 10,
   "metadata": {},
   "outputs": [
    {
     "name": "stdout",
     "output_type": "stream",
     "text": [
      "<class 'pandas.core.frame.DataFrame'>\n",
      "RangeIndex: 318818 entries, 0 to 318817\n",
      "Data columns (total 25 columns):\n",
      " #   Column                  Non-Null Count   Dtype         \n",
      "---  ------                  --------------   -----         \n",
      " 0   ID                      318818 non-null  int64         \n",
      " 1   Longitude               318818 non-null  float64       \n",
      " 2   Latitude                318818 non-null  float64       \n",
      " 3   Transaction_Time        318818 non-null  datetime64[ns]\n",
      " 4   Transaction_Cycle(day)  318818 non-null  int64         \n",
      " 5   Followers               318818 non-null  int64         \n",
      " 6   Total_Price             318818 non-null  float64       \n",
      " 7   Price_PerSquare         318818 non-null  int64         \n",
      " 8   Area                    318818 non-null  float64       \n",
      " 9   BedRoom                 318818 non-null  int64         \n",
      " 10  SittingRoom             318818 non-null  int64         \n",
      " 11  Kitchen                 318818 non-null  int64         \n",
      " 12  Bathroom                318818 non-null  int64         \n",
      " 13  Floor                   317547 non-null  object        \n",
      " 14  Building_Height         318818 non-null  int64         \n",
      " 15  Building_Type           316797 non-null  object        \n",
      " 16  Building_Year           318818 non-null  int64         \n",
      " 17  Renovation              318818 non-null  object        \n",
      " 18  Building_structure      318626 non-null  object        \n",
      " 19  Elevator_Ratio          318818 non-null  float64       \n",
      " 20  Elevator                318818 non-null  object        \n",
      " 21  Duty_Free               205829 non-null  object        \n",
      " 22  Subway_or_not           318818 non-null  object        \n",
      " 23  District                318818 non-null  object        \n",
      " 24  Average_Price           318818 non-null  int64         \n",
      "dtypes: datetime64[ns](1), float64(5), int64(11), object(8)\n",
      "memory usage: 60.8+ MB\n"
     ]
    }
   ],
   "source": [
    "#check date information again\n",
    "df.info()"
   ]
  },
  {
   "cell_type": "code",
   "execution_count": 11,
   "metadata": {},
   "outputs": [
    {
     "data": {
      "text/plain": [
       "array([nan, '底层', '底楼层', '顶层', '高楼层', '中楼层'], dtype=object)"
      ]
     },
     "execution_count": 11,
     "metadata": {},
     "output_type": "execute_result"
    }
   ],
   "source": [
    "# encode categorical fields\n",
    "df['Floor'].unique()"
   ]
  },
  {
   "cell_type": "code",
   "execution_count": 12,
   "metadata": {},
   "outputs": [],
   "source": [
    "df = df.dropna(subset=['Floor','Building_Type','Building_structure'])"
   ]
  },
  {
   "cell_type": "code",
   "execution_count": 13,
   "metadata": {},
   "outputs": [
    {
     "data": {
      "text/plain": [
       "array(['底层', '底楼层', '顶层', '高楼层', '中楼层'], dtype=object)"
      ]
     },
     "execution_count": 13,
     "metadata": {},
     "output_type": "execute_result"
    }
   ],
   "source": [
    "df['Floor'].unique()"
   ]
  },
  {
   "cell_type": "code",
   "execution_count": 14,
   "metadata": {},
   "outputs": [
    {
     "data": {
      "text/plain": [
       "array(['板楼', '板塔结合', '塔楼', '平房'], dtype=object)"
      ]
     },
     "execution_count": 14,
     "metadata": {},
     "output_type": "execute_result"
    }
   ],
   "source": [
    "df['Building_Type'].unique()"
   ]
  },
  {
   "cell_type": "code",
   "execution_count": 15,
   "metadata": {},
   "outputs": [
    {
     "data": {
      "text/plain": [
       "array(['简装', '精装', '其他', '毛坯'], dtype=object)"
      ]
     },
     "execution_count": 15,
     "metadata": {},
     "output_type": "execute_result"
    }
   ],
   "source": [
    "df['Renovation'].unique()"
   ]
  },
  {
   "cell_type": "code",
   "execution_count": 16,
   "metadata": {},
   "outputs": [
    {
     "data": {
      "text/plain": [
       "array(['无', '有'], dtype=object)"
      ]
     },
     "execution_count": 16,
     "metadata": {},
     "output_type": "execute_result"
    }
   ],
   "source": [
    "df['Elevator'].unique()"
   ]
  },
  {
   "cell_type": "code",
   "execution_count": 17,
   "metadata": {},
   "outputs": [
    {
     "data": {
      "text/plain": [
       "array([nan, '满五年'], dtype=object)"
      ]
     },
     "execution_count": 17,
     "metadata": {},
     "output_type": "execute_result"
    }
   ],
   "source": [
    "df['Duty_Free'].unique()"
   ]
  },
  {
   "cell_type": "code",
   "execution_count": 18,
   "metadata": {},
   "outputs": [
    {
     "data": {
      "text/plain": [
       "array(['否', '是'], dtype=object)"
      ]
     },
     "execution_count": 18,
     "metadata": {},
     "output_type": "execute_result"
    }
   ],
   "source": [
    "df['Subway_or_not'].unique()"
   ]
  },
  {
   "cell_type": "code",
   "execution_count": 19,
   "metadata": {},
   "outputs": [
    {
     "data": {
      "text/plain": [
       "array(['石景山', '海淀', '昌平', '西城', '顺义', '朝阳', '丰台', '东城', '通州', '平谷', '大兴',\n",
       "       '门头沟', '房山'], dtype=object)"
      ]
     },
     "execution_count": 19,
     "metadata": {},
     "output_type": "execute_result"
    }
   ],
   "source": [
    "df['District'].unique()"
   ]
  },
  {
   "cell_type": "code",
   "execution_count": 20,
   "metadata": {},
   "outputs": [
    {
     "data": {
      "text/plain": [
       "ID                             0\n",
       "Longitude                      0\n",
       "Latitude                       0\n",
       "Transaction_Time               0\n",
       "Transaction_Cycle(day)         0\n",
       "Followers                      0\n",
       "Total_Price                    0\n",
       "Price_PerSquare                0\n",
       "Area                           0\n",
       "BedRoom                        0\n",
       "SittingRoom                    0\n",
       "Kitchen                        0\n",
       "Bathroom                       0\n",
       "Floor                          0\n",
       "Building_Height                0\n",
       "Building_Type                  0\n",
       "Building_Year                  0\n",
       "Renovation                     0\n",
       "Building_structure             0\n",
       "Elevator_Ratio                 0\n",
       "Elevator                       0\n",
       "Duty_Free                 111376\n",
       "Subway_or_not                  0\n",
       "District                       0\n",
       "Average_Price                  0\n",
       "dtype: int64"
      ]
     },
     "execution_count": 20,
     "metadata": {},
     "output_type": "execute_result"
    }
   ],
   "source": [
    "df.isnull().sum()"
   ]
  },
  {
   "cell_type": "code",
   "execution_count": 21,
   "metadata": {},
   "outputs": [],
   "source": [
    "df['Floor'].replace(['底层', '底楼层', '顶层', '高楼层', '中楼层'],['Bottom','Low','Middle','High','Top'],inplace=True)"
   ]
  },
  {
   "cell_type": "code",
   "execution_count": 22,
   "metadata": {},
   "outputs": [],
   "source": [
    "df['Building_Type'].replace(['板楼', '板塔结合', '塔楼', '平房'],['Slab_building','Slab_building_mixed_tower','Building_like_tower','Bungalow'],inplace=True)"
   ]
  },
  {
   "cell_type": "code",
   "execution_count": 23,
   "metadata": {},
   "outputs": [],
   "source": [
    "df['Renovation'].replace(['简装', '精装', '其他', '毛坯'],['Fine_decoration','Delicate_decoration','Others','No_decoration'],inplace=True)"
   ]
  },
  {
   "cell_type": "code",
   "execution_count": 24,
   "metadata": {},
   "outputs": [],
   "source": [
    "df['Building_structure'].replace(['混合结构', '钢混结构', '砖混结构', '砖木结构', '钢结构'],['Mixed_structure','Steel-concrete_structure','Brick_structure','Brick_and_wood_structure','Steel_structure'],inplace=True)"
   ]
  },
  {
   "cell_type": "code",
   "execution_count": 25,
   "metadata": {},
   "outputs": [],
   "source": [
    "df['Elevator'].replace(['无', '有'],['Yes','No'],inplace=True)"
   ]
  },
  {
   "cell_type": "code",
   "execution_count": 26,
   "metadata": {},
   "outputs": [],
   "source": [
    "df['Duty_Free'].replace('满五年','Yes',inplace=True)"
   ]
  },
  {
   "cell_type": "code",
   "execution_count": 27,
   "metadata": {},
   "outputs": [],
   "source": [
    "df['Subway_or_not'].replace(['否', '是'],['No','Yes'],inplace=True)"
   ]
  },
  {
   "cell_type": "code",
   "execution_count": 28,
   "metadata": {},
   "outputs": [],
   "source": [
    "df['District'].replace(['石景山', '海淀', '昌平', '西城', '顺义', '朝阳', '丰台', '东城', '通州', '平谷', '大兴',\n",
    "       '门头沟','房山'],['SJ','HD','CP','XC','SY','CY','FT','DC','TZ','PG','DX','MTG','FS'],inplace=True)"
   ]
  },
  {
   "cell_type": "code",
   "execution_count": 29,
   "metadata": {},
   "outputs": [],
   "source": [
    "# Save data to csv before encoding\n",
    "#df.to_csv('C:/Python/Practice5005/df_clean1.csv')"
   ]
  },
  {
   "cell_type": "code",
   "execution_count": 30,
   "metadata": {},
   "outputs": [
    {
     "data": {
      "text/html": [
       "<div>\n",
       "<style scoped>\n",
       "    .dataframe tbody tr th:only-of-type {\n",
       "        vertical-align: middle;\n",
       "    }\n",
       "\n",
       "    .dataframe tbody tr th {\n",
       "        vertical-align: top;\n",
       "    }\n",
       "\n",
       "    .dataframe thead th {\n",
       "        text-align: right;\n",
       "    }\n",
       "</style>\n",
       "<table border=\"1\" class=\"dataframe\">\n",
       "  <thead>\n",
       "    <tr style=\"text-align: right;\">\n",
       "      <th></th>\n",
       "      <th>ID</th>\n",
       "      <th>Longitude</th>\n",
       "      <th>Latitude</th>\n",
       "      <th>Transaction_Time</th>\n",
       "      <th>Transaction_Cycle(day)</th>\n",
       "      <th>Followers</th>\n",
       "      <th>Total_Price</th>\n",
       "      <th>Price_PerSquare</th>\n",
       "      <th>Area</th>\n",
       "      <th>BedRoom</th>\n",
       "      <th>...</th>\n",
       "      <th>Building_Type</th>\n",
       "      <th>Building_Year</th>\n",
       "      <th>Renovation</th>\n",
       "      <th>Building_structure</th>\n",
       "      <th>Elevator_Ratio</th>\n",
       "      <th>Elevator</th>\n",
       "      <th>Duty_Free</th>\n",
       "      <th>Subway_or_not</th>\n",
       "      <th>District</th>\n",
       "      <th>Average_Price</th>\n",
       "    </tr>\n",
       "  </thead>\n",
       "  <tbody>\n",
       "    <tr>\n",
       "      <th>1271</th>\n",
       "      <td>1272</td>\n",
       "      <td>116.182571</td>\n",
       "      <td>39.925029</td>\n",
       "      <td>2018-01-20</td>\n",
       "      <td>82</td>\n",
       "      <td>59</td>\n",
       "      <td>255.0</td>\n",
       "      <td>42261</td>\n",
       "      <td>60.34</td>\n",
       "      <td>2</td>\n",
       "      <td>...</td>\n",
       "      <td>3</td>\n",
       "      <td>1999</td>\n",
       "      <td>2</td>\n",
       "      <td>2</td>\n",
       "      <td>0.500</td>\n",
       "      <td>1</td>\n",
       "      <td>NaN</td>\n",
       "      <td>0</td>\n",
       "      <td>SJ</td>\n",
       "      <td>47095</td>\n",
       "    </tr>\n",
       "    <tr>\n",
       "      <th>1272</th>\n",
       "      <td>1273</td>\n",
       "      <td>116.312693</td>\n",
       "      <td>39.977822</td>\n",
       "      <td>2018-01-03</td>\n",
       "      <td>119</td>\n",
       "      <td>144</td>\n",
       "      <td>610.0</td>\n",
       "      <td>115750</td>\n",
       "      <td>52.70</td>\n",
       "      <td>2</td>\n",
       "      <td>...</td>\n",
       "      <td>3</td>\n",
       "      <td>1981</td>\n",
       "      <td>3</td>\n",
       "      <td>2</td>\n",
       "      <td>0.333</td>\n",
       "      <td>1</td>\n",
       "      <td>Yes</td>\n",
       "      <td>1</td>\n",
       "      <td>HD</td>\n",
       "      <td>117529</td>\n",
       "    </tr>\n",
       "    <tr>\n",
       "      <th>1273</th>\n",
       "      <td>1274</td>\n",
       "      <td>116.400417</td>\n",
       "      <td>40.048675</td>\n",
       "      <td>2018-01-03</td>\n",
       "      <td>7</td>\n",
       "      <td>0</td>\n",
       "      <td>190.0</td>\n",
       "      <td>20128</td>\n",
       "      <td>94.40</td>\n",
       "      <td>2</td>\n",
       "      <td>...</td>\n",
       "      <td>3</td>\n",
       "      <td>1998</td>\n",
       "      <td>3</td>\n",
       "      <td>2</td>\n",
       "      <td>0.500</td>\n",
       "      <td>1</td>\n",
       "      <td>Yes</td>\n",
       "      <td>1</td>\n",
       "      <td>CP</td>\n",
       "      <td>47772</td>\n",
       "    </tr>\n",
       "    <tr>\n",
       "      <th>1274</th>\n",
       "      <td>1275</td>\n",
       "      <td>116.353946</td>\n",
       "      <td>40.084401</td>\n",
       "      <td>2018-01-03</td>\n",
       "      <td>7</td>\n",
       "      <td>0</td>\n",
       "      <td>530.0</td>\n",
       "      <td>44419</td>\n",
       "      <td>119.32</td>\n",
       "      <td>3</td>\n",
       "      <td>...</td>\n",
       "      <td>3</td>\n",
       "      <td>2006</td>\n",
       "      <td>1</td>\n",
       "      <td>2</td>\n",
       "      <td>0.500</td>\n",
       "      <td>1</td>\n",
       "      <td>NaN</td>\n",
       "      <td>1</td>\n",
       "      <td>CP</td>\n",
       "      <td>43641</td>\n",
       "    </tr>\n",
       "    <tr>\n",
       "      <th>1275</th>\n",
       "      <td>1276</td>\n",
       "      <td>116.374756</td>\n",
       "      <td>39.928327</td>\n",
       "      <td>2018-01-02</td>\n",
       "      <td>53</td>\n",
       "      <td>111</td>\n",
       "      <td>630.0</td>\n",
       "      <td>123047</td>\n",
       "      <td>51.20</td>\n",
       "      <td>2</td>\n",
       "      <td>...</td>\n",
       "      <td>3</td>\n",
       "      <td>1990</td>\n",
       "      <td>3</td>\n",
       "      <td>2</td>\n",
       "      <td>0.500</td>\n",
       "      <td>1</td>\n",
       "      <td>NaN</td>\n",
       "      <td>1</td>\n",
       "      <td>XC</td>\n",
       "      <td>127349</td>\n",
       "    </tr>\n",
       "  </tbody>\n",
       "</table>\n",
       "<p>5 rows × 25 columns</p>\n",
       "</div>"
      ],
      "text/plain": [
       "        ID   Longitude   Latitude Transaction_Time  Transaction_Cycle(day)  \\\n",
       "1271  1272  116.182571  39.925029       2018-01-20                      82   \n",
       "1272  1273  116.312693  39.977822       2018-01-03                     119   \n",
       "1273  1274  116.400417  40.048675       2018-01-03                       7   \n",
       "1274  1275  116.353946  40.084401       2018-01-03                       7   \n",
       "1275  1276  116.374756  39.928327       2018-01-02                      53   \n",
       "\n",
       "      Followers  Total_Price  Price_PerSquare    Area  BedRoom  ...  \\\n",
       "1271         59        255.0            42261   60.34        2  ...   \n",
       "1272        144        610.0           115750   52.70        2  ...   \n",
       "1273          0        190.0            20128   94.40        2  ...   \n",
       "1274          0        530.0            44419  119.32        3  ...   \n",
       "1275        111        630.0           123047   51.20        2  ...   \n",
       "\n",
       "      Building_Type  Building_Year  Renovation Building_structure  \\\n",
       "1271              3           1999           2                  2   \n",
       "1272              3           1981           3                  2   \n",
       "1273              3           1998           3                  2   \n",
       "1274              3           2006           1                  2   \n",
       "1275              3           1990           3                  2   \n",
       "\n",
       "      Elevator_Ratio Elevator  Duty_Free Subway_or_not District  Average_Price  \n",
       "1271           0.500        1        NaN             0       SJ          47095  \n",
       "1272           0.333        1        Yes             1       HD         117529  \n",
       "1273           0.500        1        Yes             1       CP          47772  \n",
       "1274           0.500        1        NaN             1       CP          43641  \n",
       "1275           0.500        1        NaN             1       XC         127349  \n",
       "\n",
       "[5 rows x 25 columns]"
      ]
     },
     "execution_count": 30,
     "metadata": {},
     "output_type": "execute_result"
    }
   ],
   "source": [
    "# Encoding\n",
    "df_1 = df\n",
    "df_1['Floor'].replace(['Bottom','Low','Middle','High','Top'],['0','1','2','3','4'],inplace=True)\n",
    "df_1['Building_Type'].replace(['Slab_building','Slab_building_mixed_tower','Building_like_tower','Bungalow'],['3','2','1','0'],inplace=True)\n",
    "df_1['Renovation'].replace(['Fine_decoration','Delicate_decoration','Others','No_decoration'],['2','3','1','0'],inplace=True)\n",
    "df_1['Building_structure'].replace(['Mixed_structure','Steel-concrete_structure','Brick_structure','Brick_and_wood_structure','Steel_structure'],['2','3','1','0','4'],inplace=True)\n",
    "df_1['Elevator'].replace(['Yes','No'],['1','0'],inplace=True)\n",
    "df_1['Subway_or_not'].replace(['No','Yes'],['0','1'],inplace=True)\n",
    "df_1.head()"
   ]
  },
  {
   "cell_type": "code",
   "execution_count": 31,
   "metadata": {
    "scrolled": true
   },
   "outputs": [],
   "source": [
    "import matplotlib.pyplot as plt"
   ]
  },
  {
   "cell_type": "code",
   "execution_count": 32,
   "metadata": {},
   "outputs": [
    {
     "data": {
      "text/plain": [
       "District\n",
       "CP      43034.553288\n",
       "CY      62903.107192\n",
       "DC      89831.565672\n",
       "DX      44417.203426\n",
       "FS      35906.172621\n",
       "FT      55027.951235\n",
       "HD      79669.950145\n",
       "MTG     38827.804516\n",
       "PG      43993.228054\n",
       "SJ      50598.651183\n",
       "SY      39560.973367\n",
       "TZ      47565.499591\n",
       "XC     101705.695272\n",
       "Name: Average_Price, dtype: float64"
      ]
     },
     "execution_count": 32,
     "metadata": {},
     "output_type": "execute_result"
    }
   ],
   "source": [
    "dis_price = df_1.groupby('District')['Average_Price'].mean()\n",
    "dis_price"
   ]
  },
  {
   "cell_type": "code",
   "execution_count": 33,
   "metadata": {},
   "outputs": [
    {
     "data": {
      "text/plain": [
       "pandas.core.series.Series"
      ]
     },
     "execution_count": 33,
     "metadata": {},
     "output_type": "execute_result"
    }
   ],
   "source": [
    "type(dis_price)"
   ]
  },
  {
   "cell_type": "code",
   "execution_count": 34,
   "metadata": {},
   "outputs": [
    {
     "data": {
      "text/plain": [
       "Index(['CP', 'CY', 'DC', 'DX', 'FS', 'FT', 'HD', 'MTG', 'PG', 'SJ', 'SY', 'TZ',\n",
       "       'XC'],\n",
       "      dtype='object', name='District')"
      ]
     },
     "execution_count": 34,
     "metadata": {},
     "output_type": "execute_result"
    }
   ],
   "source": [
    "dis = pd.DataFrame(dis_price, columns=['Average_Price'])\n",
    "dis.index"
   ]
  },
  {
   "cell_type": "code",
   "execution_count": 35,
   "metadata": {
    "scrolled": true
   },
   "outputs": [
    {
     "data": {
      "image/png": "[encoded data removed]",
      "text/plain": [
       "<Figure size 432x288 with 1 Axes>"
      ]
     },
     "metadata": {
      "needs_background": "light"
     },
     "output_type": "display_data"
    }
   ],
   "source": [
    "plt.bar(x =dis.index ,height=dis['Average_Price'])\n",
    "plt.title('Average house price by different regions')\n",
    "plt.show()"
   ]
  },
  {
   "cell_type": "code",
   "execution_count": 36,
   "metadata": {},
   "outputs": [],
   "source": [
    "df_1['District'].replace(['SJ','HD','CP','XC','SY','CY','FT','DC','TZ','PG','DX','MTG','FS'],['7','10','3','12','2','9','8','11','6','4','5','1','0'],inplace=True)"
   ]
  },
  {
   "cell_type": "code",
   "execution_count": 37,
   "metadata": {},
   "outputs": [
    {
     "data": {
      "text/html": [
       "<div>\n",
       "<style scoped>\n",
       "    .dataframe tbody tr th:only-of-type {\n",
       "        vertical-align: middle;\n",
       "    }\n",
       "\n",
       "    .dataframe tbody tr th {\n",
       "        vertical-align: top;\n",
       "    }\n",
       "\n",
       "    .dataframe thead th {\n",
       "        text-align: right;\n",
       "    }\n",
       "</style>\n",
       "<table border=\"1\" class=\"dataframe\">\n",
       "  <thead>\n",
       "    <tr style=\"text-align: right;\">\n",
       "      <th></th>\n",
       "      <th>ID</th>\n",
       "      <th>Longitude</th>\n",
       "      <th>Latitude</th>\n",
       "      <th>Transaction_Time</th>\n",
       "      <th>Transaction_Cycle(day)</th>\n",
       "      <th>Followers</th>\n",
       "      <th>Total_Price</th>\n",
       "      <th>Price_PerSquare</th>\n",
       "      <th>Area</th>\n",
       "      <th>BedRoom</th>\n",
       "      <th>...</th>\n",
       "      <th>Building_Type</th>\n",
       "      <th>Building_Year</th>\n",
       "      <th>Renovation</th>\n",
       "      <th>Building_structure</th>\n",
       "      <th>Elevator_Ratio</th>\n",
       "      <th>Elevator</th>\n",
       "      <th>Duty_Free</th>\n",
       "      <th>Subway_or_not</th>\n",
       "      <th>District</th>\n",
       "      <th>Average_Price</th>\n",
       "    </tr>\n",
       "  </thead>\n",
       "  <tbody>\n",
       "    <tr>\n",
       "      <th>1271</th>\n",
       "      <td>1272</td>\n",
       "      <td>116.182571</td>\n",
       "      <td>39.925029</td>\n",
       "      <td>2018-01-20</td>\n",
       "      <td>82</td>\n",
       "      <td>59</td>\n",
       "      <td>255.0</td>\n",
       "      <td>42261</td>\n",
       "      <td>60.34</td>\n",
       "      <td>2</td>\n",
       "      <td>...</td>\n",
       "      <td>3</td>\n",
       "      <td>1999</td>\n",
       "      <td>2</td>\n",
       "      <td>2</td>\n",
       "      <td>0.500</td>\n",
       "      <td>1</td>\n",
       "      <td>NaN</td>\n",
       "      <td>0</td>\n",
       "      <td>7</td>\n",
       "      <td>47095</td>\n",
       "    </tr>\n",
       "    <tr>\n",
       "      <th>1272</th>\n",
       "      <td>1273</td>\n",
       "      <td>116.312693</td>\n",
       "      <td>39.977822</td>\n",
       "      <td>2018-01-03</td>\n",
       "      <td>119</td>\n",
       "      <td>144</td>\n",
       "      <td>610.0</td>\n",
       "      <td>115750</td>\n",
       "      <td>52.70</td>\n",
       "      <td>2</td>\n",
       "      <td>...</td>\n",
       "      <td>3</td>\n",
       "      <td>1981</td>\n",
       "      <td>3</td>\n",
       "      <td>2</td>\n",
       "      <td>0.333</td>\n",
       "      <td>1</td>\n",
       "      <td>Yes</td>\n",
       "      <td>1</td>\n",
       "      <td>10</td>\n",
       "      <td>117529</td>\n",
       "    </tr>\n",
       "    <tr>\n",
       "      <th>1273</th>\n",
       "      <td>1274</td>\n",
       "      <td>116.400417</td>\n",
       "      <td>40.048675</td>\n",
       "      <td>2018-01-03</td>\n",
       "      <td>7</td>\n",
       "      <td>0</td>\n",
       "      <td>190.0</td>\n",
       "      <td>20128</td>\n",
       "      <td>94.40</td>\n",
       "      <td>2</td>\n",
       "      <td>...</td>\n",
       "      <td>3</td>\n",
       "      <td>1998</td>\n",
       "      <td>3</td>\n",
       "      <td>2</td>\n",
       "      <td>0.500</td>\n",
       "      <td>1</td>\n",
       "      <td>Yes</td>\n",
       "      <td>1</td>\n",
       "      <td>3</td>\n",
       "      <td>47772</td>\n",
       "    </tr>\n",
       "  </tbody>\n",
       "</table>\n",
       "<p>3 rows × 25 columns</p>\n",
       "</div>"
      ],
      "text/plain": [
       "        ID   Longitude   Latitude Transaction_Time  Transaction_Cycle(day)  \\\n",
       "1271  1272  116.182571  39.925029       2018-01-20                      82   \n",
       "1272  1273  116.312693  39.977822       2018-01-03                     119   \n",
       "1273  1274  116.400417  40.048675       2018-01-03                       7   \n",
       "\n",
       "      Followers  Total_Price  Price_PerSquare   Area  BedRoom  ...  \\\n",
       "1271         59        255.0            42261  60.34        2  ...   \n",
       "1272        144        610.0           115750  52.70        2  ...   \n",
       "1273          0        190.0            20128  94.40        2  ...   \n",
       "\n",
       "      Building_Type  Building_Year  Renovation Building_structure  \\\n",
       "1271              3           1999           2                  2   \n",
       "1272              3           1981           3                  2   \n",
       "1273              3           1998           3                  2   \n",
       "\n",
       "      Elevator_Ratio Elevator  Duty_Free Subway_or_not District  Average_Price  \n",
       "1271           0.500        1        NaN             0        7          47095  \n",
       "1272           0.333        1        Yes             1       10         117529  \n",
       "1273           0.500        1        Yes             1        3          47772  \n",
       "\n",
       "[3 rows x 25 columns]"
      ]
     },
     "execution_count": 37,
     "metadata": {},
     "output_type": "execute_result"
    }
   ],
   "source": [
    "df_1.head(3)"
   ]
  },
  {
   "cell_type": "code",
   "execution_count": 38,
   "metadata": {},
   "outputs": [],
   "source": [
    "# Save data to csv after encoding\n",
    "#df_1.to_csv('C:/Python/Practice5005/df_clean2.csv')"
   ]
  },
  {
   "cell_type": "code",
   "execution_count": null,
   "metadata": {},
   "outputs": [],
   "source": []
  }
 ],
 "metadata": {
  "kernelspec": {
   "display_name": "Python 3",
   "language": "python",
   "name": "python3"
  },
  "language_info": {
   "codemirror_mode": {
    "name": "ipython",
    "version": 3
   },
   "file_extension": ".py",
   "mimetype": "text/x-python",
   "name": "python",
   "nbconvert_exporter": "python",
   "pygments_lexer": "ipython3",
   "version": "3.8.3"
  }
 },
 "nbformat": 4,
 "nbformat_minor": 4
}
